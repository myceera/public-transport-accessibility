{
 "cells": [
  {
   "cell_type": "code",
   "execution_count": 23,
   "id": "352a1149-a5ca-4a33-8281-1120dd41bfe7",
   "metadata": {},
   "outputs": [],
   "source": [
    "import sys\n",
    "import os\n",
    "sys.path.append(os.path.abspath(\"src\"))\n",
    "\n",
    "import accessibility\n",
    "\n",
    "import pandas as pd\n",
    "import geopandas as gpd\n",
    "import matplotlib.pyplot as plt\n",
    "from shapely.geometry import Point\n",
    "import os\n",
    "\n",
    "CITY_NAME = \"Munich\"\n",
    "STOPS_CSV = \"data/stops.txt\"\n",
    "DISTRICTS_GEOJSON = \"data/munich_districts.geojson\"\n",
    "OUTPUT_DIR = \"output\"\n",
    "\n",
    "# Buffer distances in meters\n",
    "DISTANCES = [300, 500, 800]\n",
    "\n",
    "# Colormap configuration\n",
    "COLOR_MAP_NAME = \"Bmpoop\"  # fallback to 'viridis' if not found\n",
    "TICKS = [0, 20, 40, 60, 80, 100]\n",
    "VMIN, VMAX = 0, 100"
   ]
  },
  {
   "cell_type": "markdown",
   "id": "09ff289d-f250-4fe9-842e-eb340feddfdf",
   "metadata": {},
   "source": [
    "### LOAD AND PROCESS DATA"
   ]
  },
  {
   "cell_type": "code",
   "execution_count": 24,
   "id": "33aececd-16eb-4fb7-986c-96b1387cf1c7",
   "metadata": {},
   "outputs": [],
   "source": [
    "# Load stops and drop missing coordinates\n",
    "\n",
    "def load_and_process_stops(stops_csv, distances):\n",
    "    stops = pd.read_csv(stops_csv)\n",
    "    stops = stops.dropna(subset=['stop_lat', 'stop_lon'])\n",
    "    \n",
    "    # Создаем GeoDataFrame с точками (координатами) для остановок\n",
    "    stops_gdf = gpd.GeoDataFrame(\n",
    "        stops,\n",
    "        geometry=gpd.points_from_xy(stops.stop_lon, stops.stop_lat),\n",
    "        crs='EPSG:4326'\n",
    "    )\n",
    "    print(f\"[INFO] Loaded {len(stops)} stops\")\n",
    "\n",
    "    # Проекцируем в систему координат для метрик (в метрах)\n",
    "    stops_gdf = stops_gdf.to_crs(epsg=3857)\n",
    "\n",
    "    # Генерируем буферы для каждой дистанции\n",
    "    for dist in distances:\n",
    "        stops_gdf[f'buffer_{dist}'] = stops_gdf.geometry.buffer(dist)\n",
    "\n",
    "    # Создаем union для каждого буфера\n",
    "    buffer_unions = {\n",
    "        dist: stops_gdf[f'buffer_{dist}'].union_all()\n",
    "        for dist in distances\n",
    "    }\n",
    "    \n",
    "    return stops_gdf, buffer_unions"
   ]
  },
  {
   "cell_type": "markdown",
   "id": "0272d782-b886-4b90-bc74-2da6d924dcb4",
   "metadata": {},
   "source": [
    "### MAP CHARACTERISTIC SETTINGS"
   ]
  },
  {
   "cell_type": "code",
   "execution_count": 1,
   "id": "9db216b1-d27b-4a5e-b0d3-3f754988492b",
   "metadata": {},
   "outputs": [],
   "source": [
    "from pypalettes import load_cmap\n",
    "\n",
    "def setup_visualization(color_map_name, output_dir):\n",
    "    try:\n",
    "        cmap = load_cmap(color_map_name, cmap_type='continuous')\n",
    "    except Exception:\n",
    "        print(\"[WARNING] Failed to load custom colormap. Using 'viridis'.\")\n",
    "        cmap = plt.get_cmap('viridis')\n",
    "\n",
    "    try:\n",
    "        plt.rcParams['font.family'] = 'Helvetica Neue'\n",
    "    except RuntimeError:\n",
    "        plt.rcParams['font.family'] = 'Arial'\n",
    "\n",
    "    os.makedirs(output_dir, exist_ok=True)\n",
    "    \n",
    "    return cmap"
   ]
  },
  {
   "cell_type": "markdown",
   "id": "2860f908-0177-49d4-a6c8-62bd2fc4b393",
   "metadata": {},
   "source": [
    "### INDIVIDUAL MAPS"
   ]
  },
  {
   "cell_type": "code",
   "execution_count": 26,
   "id": "67ece3a4-2941-45c6-bd23-e7e9b652c066",
   "metadata": {},
   "outputs": [],
   "source": [
    "def generate_individual_maps(districts, distances, cmap, output_dir, city_name, vmin, vmax, ticks):\n",
    "    for dist in distances:\n",
    "        fig, ax = plt.subplots(figsize=(10, 8))\n",
    "        column = f'coverage_{dist}_pct'\n",
    "\n",
    "        districts.plot(\n",
    "            column=column,\n",
    "            cmap=cmap,\n",
    "            linewidth=0.5,\n",
    "            ax=ax,\n",
    "            edgecolor='0.8',\n",
    "            legend=True,\n",
    "            vmin=vmin,\n",
    "            vmax=vmax,\n",
    "            legend_kwds={\n",
    "                'orientation': \"vertical\",\n",
    "                'shrink': 0.7,\n",
    "                'ticks': ticks\n",
    "            }\n",
    "        )\n",
    "\n",
    "        ax.set_title(f\"Public Transport Stop Coverage by Walking Distance in {city_name} (% of District Area)\", fontsize=14)\n",
    "        ax.set_axis_off()\n",
    "\n",
    "        filename = os.path.join(output_dir, f\"{city_name.lower().replace(' ', '_')}_coverage_{dist}m.png\")\n",
    "        plt.savefig(filename, dpi=300, bbox_inches='tight')\n",
    "        plt.close()\n",
    "        print(f\"[INFO] Saved individual map: {filename}\")"
   ]
  },
  {
   "cell_type": "markdown",
   "id": "cd22b2ef-5c43-4b02-a954-8f373b9cfd72",
   "metadata": {},
   "source": [
    "### COMBINED MAP"
   ]
  },
  {
   "cell_type": "code",
   "execution_count": 27,
   "id": "301af308-cf30-44a5-b548-61f3e28362b6",
   "metadata": {},
   "outputs": [],
   "source": [
    "def generate_combined_map(districts, distances, cmap, output_dir, city_name, vmin, vmax, ticks):\n",
    "    fig, axes = plt.subplots(1, 3, figsize=(22, 8), constrained_layout=False)\n",
    "\n",
    "    for ax, dist in zip(axes, distances):\n",
    "        column = f'coverage_{dist}_pct'\n",
    "        districts.plot(\n",
    "            column=column,\n",
    "            cmap=cmap,\n",
    "            linewidth=0.5,\n",
    "            ax=ax,\n",
    "            edgecolor='0.8',\n",
    "            vmin=vmin,\n",
    "            vmax=vmax\n",
    "        )\n",
    "        ax.set_title(f\"{dist}m Coverage\", fontsize=14)\n",
    "        ax.set_axis_off()\n",
    "\n",
    "    # Add colorbar below all maps\n",
    "    cbar_ax = fig.add_axes([0.3, 0.08, 0.4, 0.02])\n",
    "    sm = plt.cm.ScalarMappable(cmap=cmap, norm=plt.Normalize(vmin=vmin, vmax=vmax))\n",
    "    sm._A = []\n",
    "    cbar = fig.colorbar(sm, cax=cbar_ax, orientation='horizontal', ticks=ticks)\n",
    "    cbar.set_label(\"Coverage (%)\", fontsize=12)\n",
    "    cbar.ax.tick_params(labelsize=10)\n",
    "\n",
    "    fig.suptitle(f\"Public Transport Stop Coverage by Walking Distance in {city_name} (% of District Area)\", fontsize=18, y=0.95)\n",
    "\n",
    "    combined_path = os.path.join(output_dir, f\"{city_name.lower().replace(' ', '_')}_coverage_combined.png\")\n",
    "    plt.savefig(combined_path, dpi=300, bbox_inches='tight')\n",
    "    plt.close()\n",
    "    print(f\"[INFO] Saved combined map: {combined_path}\")"
   ]
  },
  {
   "cell_type": "code",
   "execution_count": 28,
   "id": "b4d6db31-8a4b-4292-8c1c-092b9237abd3",
   "metadata": {},
   "outputs": [
    {
     "name": "stdout",
     "output_type": "stream",
     "text": [
      "[INFO] Loaded 10926 stops\n",
      "[INFO] Saved individual map: output/munich_coverage_300m.png\n",
      "[INFO] Saved individual map: output/munich_coverage_500m.png\n",
      "[INFO] Saved individual map: output/munich_coverage_800m.png\n",
      "[INFO] Saved combined map: output/munich_coverage_combined.png\n"
     ]
    }
   ],
   "source": [
    "# 1. Загрузим и обработаем остановки\n",
    "stops_gdf, buffer_unions = load_and_process_stops(STOPS_CSV, DISTANCES)\n",
    "\n",
    "# 2. Настроим визуализацию\n",
    "cmap = setup_visualization(COLOR_MAP_NAME, OUTPUT_DIR)\n",
    "\n",
    "# 3. Сгенерируем индивидуальные карты для каждой доступности\n",
    "generate_individual_maps(districts, DISTANCES, cmap, OUTPUT_DIR, CITY_NAME, VMIN, VMAX, TICKS)\n",
    "\n",
    "# 4. Сгенерируем комбинированную карту\n",
    "generate_combined_map(districts, DISTANCES, cmap, OUTPUT_DIR, CITY_NAME, VMIN, VMAX, TICKS)"
   ]
  },
  {
   "cell_type": "code",
   "execution_count": null,
   "id": "5e741bd5-b108-4f6b-9428-cf1fdea8a66f",
   "metadata": {},
   "outputs": [],
   "source": []
  }
 ],
 "metadata": {
  "kernelspec": {
   "display_name": "Python 3 (ipykernel)",
   "language": "python",
   "name": "python3"
  },
  "language_info": {
   "codemirror_mode": {
    "name": "ipython",
    "version": 3
   },
   "file_extension": ".py",
   "mimetype": "text/x-python",
   "name": "python",
   "nbconvert_exporter": "python",
   "pygments_lexer": "ipython3",
   "version": "3.12.9"
  }
 },
 "nbformat": 4,
 "nbformat_minor": 5
}
